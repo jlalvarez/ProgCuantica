{
  "nbformat": 4,
  "nbformat_minor": 5,
  "metadata": {
    "kernelspec": {
      "display_name": "Python 3",
      "language": "python",
      "name": "python3"
    },
    "language_info": {
      "codemirror_mode": {
        "name": "ipython",
        "version": 3
      },
      "file_extension": ".py",
      "mimetype": "text/x-python",
      "name": "python",
      "nbconvert_exporter": "python",
      "pygments_lexer": "ipython3",
      "version": "3.7.8"
    },
    "colab": {
      "name": "Copia de Ejemplo2.ipynb",
      "provenance": [],
      "collapsed_sections": []
    }
  },
  "cells": [
    {
      "cell_type": "code",
      "metadata": {
        "id": "cf51eb1d-008a-4e3c-9147-2dd32d1e67eb"
      },
      "source": [
        "!pip install qiskit"
      ],
      "id": "cf51eb1d-008a-4e3c-9147-2dd32d1e67eb",
      "execution_count": null,
      "outputs": []
    },
    {
      "cell_type": "code",
      "metadata": {
        "id": "f9538241-ea1f-450c-b81f-3604452219e5"
      },
      "source": [
        "token = '**TOKEN**'\n",
        "from qiskit import IBMQ\n",
        "IBMQ.save_account(token)\n"
      ],
      "id": "f9538241-ea1f-450c-b81f-3604452219e5",
      "execution_count": null,
      "outputs": []
    },
    {
      "cell_type": "code",
      "metadata": {
        "id": "2cfaa842-25e9-4154-b660-9a76cd1c6332",
        "outputId": "88f03411-28e8-41ba-fff4-55725171ab9e"
      },
      "source": [
        "IBMQ.load_account()"
      ],
      "id": "2cfaa842-25e9-4154-b660-9a76cd1c6332",
      "execution_count": null,
      "outputs": [
        {
          "data": {
            "text/plain": [
              "<AccountProvider for IBMQ(hub='ibm-q', group='open', project='main')>"
            ]
          },
          "execution_count": 6,
          "metadata": {},
          "output_type": "execute_result"
        }
      ]
    },
    {
      "cell_type": "code",
      "metadata": {
        "id": "a4ccc113-697d-4491-96b1-5e615ad54ba1"
      },
      "source": [
        "provider = IBMQ.get_provider('ibm-q')"
      ],
      "id": "a4ccc113-697d-4491-96b1-5e615ad54ba1",
      "execution_count": null,
      "outputs": []
    },
    {
      "cell_type": "code",
      "metadata": {
        "id": "6b4af38b-eeae-410d-994b-15803bd439c5"
      },
      "source": [
        "qcomp = provider.get_backend('ibmq_manila')"
      ],
      "id": "6b4af38b-eeae-410d-994b-15803bd439c5",
      "execution_count": null,
      "outputs": []
    },
    {
      "cell_type": "code",
      "metadata": {
        "id": "49c21f2c-1105-4253-b54c-99e380cbb886",
        "outputId": "5e4d3b79-e33b-468b-abea-a4830736fa0e"
      },
      "source": [
        "from qiskit import *\n",
        "# Registramos dos qubits qr[0] y qr[1]\n",
        "qr = QuantumRegister(2)\n",
        "# Registramos dos bits clásicos cr[0] y cr[1]\n",
        "cr = ClassicalRegister(2)\n",
        "# Creamos un circuito asociando esos bits y qubits\n",
        "circuit = QuantumCircuit(qr, cr)\n",
        "# Aplicamos una puerta H al primer qubit (qr[0]\n",
        "circuit.h(qr[0])\n",
        "# Aplicamos una puerta CNOT con qubit de control qr[0] y objetivo qr[1]\n",
        "circuit.cx(qr[0], qr[1])\n",
        "# Medimos los qubits qr[0] y qr[1] asociándolos a los bits cr[0] y cr[1], resp.\n",
        "circuit.measure(qr, cr)\n",
        "circuit.draw()"
      ],
      "id": "49c21f2c-1105-4253-b54c-99e380cbb886",
      "execution_count": null,
      "outputs": [
        {
          "data": {
            "text/html": [
              "<pre style=\"word-wrap: normal;white-space: pre;background: #fff0;line-height: 1.1;font-family: &quot;Courier New&quot;,Courier,monospace\">      ┌───┐     ┌─┐   \n",
              "q0_0: ┤ H ├──■──┤M├───\n",
              "      └───┘┌─┴─┐└╥┘┌─┐\n",
              "q0_1: ─────┤ X ├─╫─┤M├\n",
              "           └───┘ ║ └╥┘\n",
              "c0: 2/═══════════╩══╩═\n",
              "                 0  1 </pre>"
            ],
            "text/plain": [
              "      ┌───┐     ┌─┐   \n",
              "q0_0: ┤ H ├──■──┤M├───\n",
              "      └───┘┌─┴─┐└╥┘┌─┐\n",
              "q0_1: ─────┤ X ├─╫─┤M├\n",
              "           └───┘ ║ └╥┘\n",
              "c0: 2/═══════════╩══╩═\n",
              "                 0  1 "
            ]
          },
          "execution_count": 13,
          "metadata": {},
          "output_type": "execute_result"
        }
      ]
    },
    {
      "cell_type": "code",
      "metadata": {
        "id": "34ff0def-947f-4d58-97b2-c735bbaad4e9"
      },
      "source": [
        "job = execute(circuit, backend=qcomp)"
      ],
      "id": "34ff0def-947f-4d58-97b2-c735bbaad4e9",
      "execution_count": null,
      "outputs": []
    },
    {
      "cell_type": "code",
      "metadata": {
        "id": "340d21de-1bfa-4702-bdd7-daa5714b2d4a"
      },
      "source": [
        "from qiskit.tools.monitor import job_monitor"
      ],
      "id": "340d21de-1bfa-4702-bdd7-daa5714b2d4a",
      "execution_count": null,
      "outputs": []
    },
    {
      "cell_type": "code",
      "metadata": {
        "id": "97ab2c9b-bc06-49ec-8e7b-910d87bd1f2f"
      },
      "source": [
        "job_monitor(job)\n",
        "result = job.result()\n",
        "plot_histogram(result_counts(circuit))"
      ],
      "id": "97ab2c9b-bc06-49ec-8e7b-910d87bd1f2f",
      "execution_count": null,
      "outputs": []
    },
    {
      "cell_type": "markdown",
      "metadata": {
        "id": "G49r5fHbh1JS"
      },
      "source": [
        "## Resultado\n",
        "\n",
        "Jobs /\n",
        "61955023a91e33355f3782ba\n",
        "\n",
        "---\n",
        "<b>Details</b>\n",
        "\n",
        "1h 28m 47.5s Total completion time\n",
        "\n",
        "<b>ibmq_manila</b>: System\n",
        "\n",
        "- <b>Sent from</b>: API\n",
        "- <b>Created on Nov</b> 17, 2021 7:55 PM\n",
        "- <b>Sent to queue</b> Nov 17, 2021 7:55 PM\n",
        "- <b>Provider</b>: ibm-q/open/main\n",
        "- <b>Run mode</b>: fairshare\n",
        "- <b># of shots</b> 1024\n",
        "- <b># of circuits</b> 1\n",
        "\n",
        "## Histograma\n",
        "\n",
        "![Histogram](img/bar-chart.png)\n",
        "\n"
      ],
      "id": "G49r5fHbh1JS"
    },
    {
      "cell_type": "markdown",
      "metadata": {
        "id": "1Ro2QTpYkDDN"
      },
      "source": [
        "## QASM\n",
        "```\n",
        "OPENQASM 2.0;\n",
        "include \"qelib1.inc\";\n",
        "\n",
        "qreg q[5];\n",
        "creg c0[2];\n",
        "\n",
        "rz(1.5707963267948966) q[0];\n",
        "sx q[0];\n",
        "rz(1.5707963267948966) q[0];\n",
        "cx q[0], q[1];\n",
        "measure q[0] -> c0[0];\n",
        "measure q[1] -> c0[1];\n",
        "```"
      ],
      "id": "1Ro2QTpYkDDN"
    },
    {
      "cell_type": "markdown",
      "metadata": {
        "id": "lGxfjohekSvT"
      },
      "source": [
        "## Qiskit\n",
        "```\n",
        "from qiskit import QuantumRegister, ClassicalRegister, QuantumCircuit\n",
        "from numpy import pi\n",
        "\n",
        "qreg_q = QuantumRegister(5, 'q')\n",
        "creg_c0 = ClassicalRegister(2, 'c0')\n",
        "circuit = QuantumCircuit(qreg_q, creg_c0)\n",
        "\n",
        "circuit.rz(1.5707963267948966, qreg_q[0])\n",
        "circuit.sx(qreg_q[0])\n",
        "circuit.rz(1.5707963267948966, qreg_q[0])\n",
        "circuit.cx(qreg_q[0], qreg_q[1])\n",
        "circuit.measure(qreg_q[0], creg_c0[0])\n",
        "circuit.measure(qreg_q[1], creg_c0[1])\n",
        "```"
      ],
      "id": "lGxfjohekSvT"
    }
  ]
}