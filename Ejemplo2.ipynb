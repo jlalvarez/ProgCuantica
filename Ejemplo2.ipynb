{
 "cells": [
  {
   "cell_type": "code",
   "execution_count": null,
   "id": "cf51eb1d-008a-4e3c-9147-2dd32d1e67eb",
   "metadata": {},
   "outputs": [],
   "source": [
    "!pip install qiskit"
   ]
  },
  {
   "cell_type": "code",
   "execution_count": 4,
   "id": "f9538241-ea1f-450c-b81f-3604452219e5",
   "metadata": {},
   "outputs": [],
   "source": [
    "token = '**TOKEN**'\n",
    "from qiskit import IBMQ\n",
    "IBMQ.save_account(token)\n"
   ]
  },
  {
   "cell_type": "code",
   "execution_count": 6,
   "id": "2cfaa842-25e9-4154-b660-9a76cd1c6332",
   "metadata": {},
   "outputs": [
    {
     "data": {
      "text/plain": [
       "<AccountProvider for IBMQ(hub='ibm-q', group='open', project='main')>"
      ]
     },
     "execution_count": 6,
     "metadata": {},
     "output_type": "execute_result"
    }
   ],
   "source": [
    "IBMQ.load_account()"
   ]
  },
  {
   "cell_type": "code",
   "execution_count": 8,
   "id": "a4ccc113-697d-4491-96b1-5e615ad54ba1",
   "metadata": {},
   "outputs": [],
   "source": [
    "provider = IBMQ.get_provider('ibm-q')"
   ]
  },
  {
   "cell_type": "code",
   "execution_count": 11,
   "id": "6b4af38b-eeae-410d-994b-15803bd439c5",
   "metadata": {},
   "outputs": [],
   "source": [
    "qcomp = provider.get_backend('ibmq_manila')"
   ]
  },
  {
   "cell_type": "code",
   "execution_count": 13,
   "id": "49c21f2c-1105-4253-b54c-99e380cbb886",
   "metadata": {},
   "outputs": [
    {
     "data": {
      "text/html": [
       "<pre style=\"word-wrap: normal;white-space: pre;background: #fff0;line-height: 1.1;font-family: &quot;Courier New&quot;,Courier,monospace\">      ┌───┐     ┌─┐   \n",
       "q0_0: ┤ H ├──■──┤M├───\n",
       "      └───┘┌─┴─┐└╥┘┌─┐\n",
       "q0_1: ─────┤ X ├─╫─┤M├\n",
       "           └───┘ ║ └╥┘\n",
       "c0: 2/═══════════╩══╩═\n",
       "                 0  1 </pre>"
      ],
      "text/plain": [
       "      ┌───┐     ┌─┐   \n",
       "q0_0: ┤ H ├──■──┤M├───\n",
       "      └───┘┌─┴─┐└╥┘┌─┐\n",
       "q0_1: ─────┤ X ├─╫─┤M├\n",
       "           └───┘ ║ └╥┘\n",
       "c0: 2/═══════════╩══╩═\n",
       "                 0  1 "
      ]
     },
     "execution_count": 13,
     "metadata": {},
     "output_type": "execute_result"
    }
   ],
   "source": [
    "from qiskit import *\n",
    "# Registramos dos qubits qr[0] y qr[1]\n",
    "qr = QuantumRegister(2)\n",
    "# Registramos dos bits clásicos cr[0] y cr[1]\n",
    "cr = ClassicalRegister(2)\n",
    "# Creamos un circuito asociando esos bits y qubits\n",
    "circuit = QuantumCircuit(qr, cr)\n",
    "# Aplicamos una puerta H al primer qubit (qr[0]\n",
    "circuit.h(qr[0])\n",
    "# Aplicamos una puerta CNOT con qubit de control qr[0] y objetivo qr[1]\n",
    "circuit.cx(qr[0], qr[1])\n",
    "# Medimos los qubits qr[0] y qr[1] asociándolos a los bits cr[0] y cr[1], resp.\n",
    "circuit.measure(qr, cr)\n",
    "circuit.draw()"
   ]
  },
  {
   "cell_type": "code",
   "execution_count": 15,
   "id": "34ff0def-947f-4d58-97b2-c735bbaad4e9",
   "metadata": {},
   "outputs": [],
   "source": [
    "job = execute(circuit, backend=qcomp)"
   ]
  },
  {
   "cell_type": "code",
   "execution_count": 16,
   "id": "340d21de-1bfa-4702-bdd7-daa5714b2d4a",
   "metadata": {},
   "outputs": [],
   "source": [
    "from qiskit.tools.monitor import job_monitor"
   ]
  },
  {
   "cell_type": "code",
   "execution_count": null,
   "id": "97ab2c9b-bc06-49ec-8e7b-910d87bd1f2f",
   "metadata": {},
   "outputs": [
    {
     "name": "stdout",
     "output_type": "stream",
     "text": [
      "Job Status: job is queued (27)"
     ]
    }
   ],
   "source": [
    "job_monitor(job)"
   ]
  },
  {
   "cell_type": "code",
   "execution_count": null,
   "id": "9edfa447-8216-4e2f-a23a-e0cfcc642217",
   "metadata": {},
   "outputs": [],
   "source": [
    "result = job.result()"
   ]
  },
  {
   "cell_type": "code",
   "execution_count": null,
   "id": "7c2e998e-175d-41cb-903d-d2c6e31e6996",
   "metadata": {},
   "outputs": [],
   "source": [
    "plot_histogram(result_counts(circuit))"
   ]
  },
  {
   "cell_type": "code",
   "execution_count": null,
   "id": "a464784c-bbb1-4ca4-8297-46036d882038",
   "metadata": {},
   "outputs": [],
   "source": []
  }
 ],
 "metadata": {
  "kernelspec": {
   "display_name": "Python 3",
   "language": "python",
   "name": "python3"
  },
  "language_info": {
   "codemirror_mode": {
    "name": "ipython",
    "version": 3
   },
   "file_extension": ".py",
   "mimetype": "text/x-python",
   "name": "python",
   "nbconvert_exporter": "python",
   "pygments_lexer": "ipython3",
   "version": "3.7.8"
  }
 },
 "nbformat": 4,
 "nbformat_minor": 5
}
